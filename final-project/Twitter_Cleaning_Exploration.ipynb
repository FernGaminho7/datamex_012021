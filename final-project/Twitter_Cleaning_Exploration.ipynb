{
 "cells": [
  {
   "cell_type": "code",
   "execution_count": 1,
   "metadata": {},
   "outputs": [],
   "source": [
    "import pandas as pd\n",
    "import numpy as np"
   ]
  },
  {
   "cell_type": "code",
   "execution_count": 2,
   "metadata": {},
   "outputs": [],
   "source": [
    "data = pd.read_csv('twitter_dataset.csv') "
   ]
  },
  {
   "cell_type": "code",
   "execution_count": 4,
   "metadata": {},
   "outputs": [],
   "source": [
    "data = data.drop(columns=['location','screen_name','status_count','source_device','retweet_text','quote_text','quote_screen_name'])"
   ]
  },
  {
   "cell_type": "code",
   "execution_count": 5,
   "metadata": {},
   "outputs": [
    {
     "data": {
      "text/plain": [
       "(27590, 8)"
      ]
     },
     "execution_count": 5,
     "metadata": {},
     "output_type": "execute_result"
    }
   ],
   "source": [
    "data.shape"
   ]
  },
  {
   "cell_type": "code",
   "execution_count": 7,
   "metadata": {},
   "outputs": [
    {
     "data": {
      "text/plain": [
       "Index(['tweet_id', 'name', 'retweet_count', 'text', 'mined_at', 'created_at',\n",
       "       'favourite_count', 'hashtags'],\n",
       "      dtype='object')"
      ]
     },
     "execution_count": 7,
     "metadata": {},
     "output_type": "execute_result"
    }
   ],
   "source": [
    "data.columns"
   ]
  },
  {
   "cell_type": "code",
   "execution_count": 6,
   "metadata": {},
   "outputs": [
    {
     "data": {
      "text/plain": [
       "Bloomberg Crypto     3250\n",
       "Pomp 🌪               3249\n",
       "Bitso                3249\n",
       "Tyler Winklevoss     3248\n",
       "CryptoWhale          3247\n",
       "CryptoYoda           3227\n",
       "Lex Moskovski        3144\n",
       "Kris | Crypto.com    2061\n",
       "Michael Saylor       1515\n",
       "Elon Musk            1400\n",
       "Name: name, dtype: int64"
      ]
     },
     "execution_count": 6,
     "metadata": {},
     "output_type": "execute_result"
    }
   ],
   "source": [
    "data['name'].value_counts()"
   ]
  },
  {
   "cell_type": "code",
   "execution_count": 17,
   "metadata": {},
   "outputs": [
    {
     "data": {
      "text/plain": [
       "0        2021-03-08 22:22:29.000000\n",
       "1        2021-03-08 22:22:18.000000\n",
       "2        2021-03-08 22:08:37.000000\n",
       "3        2021-03-08 22:06:15.000000\n",
       "4        2021-03-08 22:00:34.000000\n",
       "                    ...            \n",
       "27585    2017-05-29 16:26:46.000000\n",
       "27586    2017-05-29 16:07:56.000000\n",
       "27587    2017-05-29 16:04:49.000000\n",
       "27588    2017-05-29 15:13:51.000000\n",
       "27589    2017-05-29 14:57:29.000000\n",
       "Name: created_at, Length: 27590, dtype: object"
      ]
     },
     "execution_count": 17,
     "metadata": {},
     "output_type": "execute_result"
    }
   ],
   "source": [
    "data['created_at']"
   ]
  },
  {
   "cell_type": "code",
   "execution_count": 9,
   "metadata": {},
   "outputs": [
    {
     "name": "stdout",
     "output_type": "stream",
     "text": [
      "<class 'pandas.core.frame.DataFrame'>\n",
      "RangeIndex: 27590 entries, 0 to 27589\n",
      "Data columns (total 8 columns):\n",
      " #   Column           Non-Null Count  Dtype \n",
      "---  ------           --------------  ----- \n",
      " 0   tweet_id         27590 non-null  int64 \n",
      " 1   name             27590 non-null  object\n",
      " 2   retweet_count    27590 non-null  int64 \n",
      " 3   text             27590 non-null  object\n",
      " 4   mined_at         27590 non-null  object\n",
      " 5   created_at       27590 non-null  object\n",
      " 6   favourite_count  27590 non-null  int64 \n",
      " 7   hashtags         27590 non-null  object\n",
      "dtypes: int64(3), object(5)\n",
      "memory usage: 1.7+ MB\n"
     ]
    }
   ],
   "source": [
    "data.info()"
   ]
  },
  {
   "cell_type": "code",
   "execution_count": 11,
   "metadata": {},
   "outputs": [
    {
     "data": {
      "text/plain": [
       "array(['[]', \"[{'text': 'takeyourcashback', 'indices': [117, 134]}]\",\n",
       "       \"[{'text': 'Bitcoin', 'indices': [54, 62]}]\", ...,\n",
       "       \"[{'text': 'fullscreen', 'indices': [43, 54]}]\",\n",
       "       \"[{'text': 'markets', 'indices': [124, 132]}]\",\n",
       "       \"[{'text': 'goldenage', 'indices': [47, 57]}]\"], dtype=object)"
      ]
     },
     "execution_count": 11,
     "metadata": {},
     "output_type": "execute_result"
    }
   ],
   "source": [
    "# Revisar si hay hashtags\n",
    "data['hashtags'].unique()"
   ]
  },
  {
   "cell_type": "code",
   "execution_count": 51,
   "metadata": {},
   "outputs": [],
   "source": [
    "# Convert object columns to datetime\n",
    "'2009-10-31 14:26:09.000000'\n",
    "# ,format=\"%Y-%m-%dT%H:%M:%S.f\"\n",
    "\n",
    "from datetime import datetime\n",
    "data['created_at']= pd.to_datetime(data['created_at'], errors='coerce',format=\"%Y-%m-%d %H:%M\")\n",
    "data['mined_at']= pd.to_datetime(data['mined_at'], errors='coerce',format=\"%Y-%m-%d %H:%M\")"
   ]
  },
  {
   "cell_type": "code",
   "execution_count": 52,
   "metadata": {},
   "outputs": [
    {
     "name": "stdout",
     "output_type": "stream",
     "text": [
      "<class 'pandas.core.frame.DataFrame'>\n",
      "RangeIndex: 27590 entries, 0 to 27589\n",
      "Data columns (total 8 columns):\n",
      " #   Column           Non-Null Count  Dtype         \n",
      "---  ------           --------------  -----         \n",
      " 0   tweet_id         27590 non-null  int64         \n",
      " 1   name             27590 non-null  object        \n",
      " 2   retweet_count    27590 non-null  int64         \n",
      " 3   text             27590 non-null  object        \n",
      " 4   mined_at         27590 non-null  datetime64[ns]\n",
      " 5   created_at       27590 non-null  datetime64[ns]\n",
      " 6   favourite_count  27590 non-null  int64         \n",
      " 7   hashtags         27590 non-null  object        \n",
      "dtypes: datetime64[ns](2), int64(3), object(3)\n",
      "memory usage: 1.7+ MB\n"
     ]
    }
   ],
   "source": [
    "data.info()"
   ]
  }
 ],
 "metadata": {
  "kernelspec": {
   "display_name": "Python 3",
   "language": "python",
   "name": "python3"
  },
  "language_info": {
   "codemirror_mode": {
    "name": "ipython",
    "version": 3
   },
   "file_extension": ".py",
   "mimetype": "text/x-python",
   "name": "python",
   "nbconvert_exporter": "python",
   "pygments_lexer": "ipython3",
   "version": "3.9.0"
  }
 },
 "nbformat": 4,
 "nbformat_minor": 4
}
