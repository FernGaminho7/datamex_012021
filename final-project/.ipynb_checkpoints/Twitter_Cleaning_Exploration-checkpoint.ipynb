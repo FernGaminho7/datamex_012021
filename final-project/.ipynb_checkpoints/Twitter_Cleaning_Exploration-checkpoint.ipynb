{
 "cells": [
  {
   "cell_type": "code",
   "execution_count": 1,
   "metadata": {},
   "outputs": [],
   "source": [
    "import pandas as pd\n",
    "import numpy as np"
   ]
  },
  {
   "cell_type": "code",
   "execution_count": 2,
   "metadata": {},
   "outputs": [],
   "source": [
    "data = pd.read_csv('twitter_dataset.csv') "
   ]
  },
  {
   "cell_type": "code",
   "execution_count": 6,
   "metadata": {},
   "outputs": [
    {
     "name": "stdout",
     "output_type": "stream",
     "text": [
      "<class 'pandas.core.frame.DataFrame'>\n",
      "RangeIndex: 380 entries, 0 to 379\n",
      "Data columns (total 15 columns):\n",
      " #   Column             Non-Null Count  Dtype  \n",
      "---  ------             --------------  -----  \n",
      " 0   tweet_id           380 non-null    int64  \n",
      " 1   name               380 non-null    object \n",
      " 2   screen_name        380 non-null    object \n",
      " 3   retweet_count      380 non-null    int64  \n",
      " 4   text               380 non-null    object \n",
      " 5   mined_at           380 non-null    object \n",
      " 6   created_at         380 non-null    object \n",
      " 7   favourite_count    380 non-null    int64  \n",
      " 8   hashtags           380 non-null    object \n",
      " 9   status_count       380 non-null    int64  \n",
      " 10  location           0 non-null      float64\n",
      " 11  source_device      380 non-null    object \n",
      " 12  retweet_text       380 non-null    object \n",
      " 13  quote_text         380 non-null    object \n",
      " 14  quote_screen_name  380 non-null    object \n",
      "dtypes: float64(1), int64(4), object(10)\n",
      "memory usage: 44.7+ KB\n"
     ]
    }
   ],
   "source": [
    "data.info()"
   ]
  },
  {
   "cell_type": "code",
   "execution_count": 7,
   "metadata": {},
   "outputs": [],
   "source": [
    "data = data.drop(columns=['location','screen_name','status_count','source_device','retweet_text','quote_text','quote_screen_name'])"
   ]
  },
  {
   "cell_type": "code",
   "execution_count": 12,
   "metadata": {},
   "outputs": [
    {
     "data": {
      "text/plain": [
       "(380, 14)"
      ]
     },
     "execution_count": 12,
     "metadata": {},
     "output_type": "execute_result"
    }
   ],
   "source": [
    "data.shape"
   ]
  }
 ],
 "metadata": {
  "kernelspec": {
   "display_name": "Python 3",
   "language": "python",
   "name": "python3"
  },
  "language_info": {
   "codemirror_mode": {
    "name": "ipython",
    "version": 3
   },
   "file_extension": ".py",
   "mimetype": "text/x-python",
   "name": "python",
   "nbconvert_exporter": "python",
   "pygments_lexer": "ipython3",
   "version": "3.9.0"
  }
 },
 "nbformat": 4,
 "nbformat_minor": 4
}
