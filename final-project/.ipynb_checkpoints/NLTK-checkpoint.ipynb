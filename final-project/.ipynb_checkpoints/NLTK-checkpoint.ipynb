{
 "cells": [
  {
   "cell_type": "code",
   "execution_count": 2,
   "metadata": {},
   "outputs": [],
   "source": [
    "import pandas as pd\n",
    "import nltk"
   ]
  },
  {
   "cell_type": "code",
   "execution_count": 3,
   "metadata": {},
   "outputs": [
    {
     "data": {
      "text/html": [
       "<div>\n",
       "<style scoped>\n",
       "    .dataframe tbody tr th:only-of-type {\n",
       "        vertical-align: middle;\n",
       "    }\n",
       "\n",
       "    .dataframe tbody tr th {\n",
       "        vertical-align: top;\n",
       "    }\n",
       "\n",
       "    .dataframe thead th {\n",
       "        text-align: right;\n",
       "    }\n",
       "</style>\n",
       "<table border=\"1\" class=\"dataframe\">\n",
       "  <thead>\n",
       "    <tr style=\"text-align: right;\">\n",
       "      <th></th>\n",
       "      <th>name</th>\n",
       "      <th>retweet_count</th>\n",
       "      <th>text</th>\n",
       "      <th>created_at</th>\n",
       "      <th>favourite_count</th>\n",
       "      <th>hashtags</th>\n",
       "    </tr>\n",
       "  </thead>\n",
       "  <tbody>\n",
       "    <tr>\n",
       "      <th>0</th>\n",
       "      <td>Pomp</td>\n",
       "      <td>0</td>\n",
       "      <td>wild</td>\n",
       "      <td>2021-03-08 22:22:29</td>\n",
       "      <td>61</td>\n",
       "      <td>[]</td>\n",
       "    </tr>\n",
       "    <tr>\n",
       "      <th>1</th>\n",
       "      <td>Pomp</td>\n",
       "      <td>125</td>\n",
       "      <td>rt  if you had invested your 1200 stimulus che...</td>\n",
       "      <td>2021-03-08 22:22:18</td>\n",
       "      <td>0</td>\n",
       "      <td>[]</td>\n",
       "    </tr>\n",
       "    <tr>\n",
       "      <th>2</th>\n",
       "      <td>Pomp</td>\n",
       "      <td>3</td>\n",
       "      <td>how is your paper trading account going</td>\n",
       "      <td>2021-03-08 22:08:37</td>\n",
       "      <td>86</td>\n",
       "      <td>[]</td>\n",
       "    </tr>\n",
       "    <tr>\n",
       "      <th>3</th>\n",
       "      <td>Pomp</td>\n",
       "      <td>132</td>\n",
       "      <td>update gamestop closed today at 194 per share ...</td>\n",
       "      <td>2021-03-08 22:06:15</td>\n",
       "      <td>1906</td>\n",
       "      <td>[]</td>\n",
       "    </tr>\n",
       "    <tr>\n",
       "      <th>4</th>\n",
       "      <td>Pomp</td>\n",
       "      <td>6</td>\n",
       "      <td>rt   daily letter this morning is pretty spot ...</td>\n",
       "      <td>2021-03-08 22:00:34</td>\n",
       "      <td>0</td>\n",
       "      <td>[]</td>\n",
       "    </tr>\n",
       "  </tbody>\n",
       "</table>\n",
       "</div>"
      ],
      "text/plain": [
       "   name  retweet_count                                               text  \\\n",
       "0  Pomp              0                                              wild    \n",
       "1  Pomp            125  rt  if you had invested your 1200 stimulus che...   \n",
       "2  Pomp              3            how is your paper trading account going   \n",
       "3  Pomp            132  update gamestop closed today at 194 per share ...   \n",
       "4  Pomp              6  rt   daily letter this morning is pretty spot ...   \n",
       "\n",
       "            created_at  favourite_count hashtags  \n",
       "0  2021-03-08 22:22:29               61       []  \n",
       "1  2021-03-08 22:22:18                0       []  \n",
       "2  2021-03-08 22:08:37               86       []  \n",
       "3  2021-03-08 22:06:15             1906       []  \n",
       "4  2021-03-08 22:00:34                0       []  "
      ]
     },
     "execution_count": 3,
     "metadata": {},
     "output_type": "execute_result"
    }
   ],
   "source": [
    "data = pd.read_csv('clean_twitter_dataset.csv') \n",
    "data.head()"
   ]
  }
 ],
 "metadata": {
  "kernelspec": {
   "display_name": "Python 3",
   "language": "python",
   "name": "python3"
  },
  "language_info": {
   "codemirror_mode": {
    "name": "ipython",
    "version": 3
   },
   "file_extension": ".py",
   "mimetype": "text/x-python",
   "name": "python",
   "nbconvert_exporter": "python",
   "pygments_lexer": "ipython3",
   "version": "3.9.0"
  }
 },
 "nbformat": 4,
 "nbformat_minor": 4
}
